{
 "cells": [
  {
   "cell_type": "markdown",
   "metadata": {
    "id": "y871RZtRhCEH"
   },
   "source": [
    "# <font color='red'>BackPropagation</font>"
   ]
  },
  {
   "cell_type": "code",
   "execution_count": 137,
   "metadata": {
    "colab": {
     "base_uri": "https://localhost:8080/",
     "height": 50
    },
    "id": "1hSje5CBgcUb",
    "outputId": "66535fa5-f8a2-4792-bc62-7842c93480f7"
   },
   "outputs": [
    {
     "name": "stdout",
     "output_type": "stream",
     "text": [
      "(506, 6)\n",
      "(506, 5) (506,)\n"
     ]
    }
   ],
   "source": [
    "import pickle\n",
    "import numpy as np\n",
    "from tqdm import tqdm\n",
    "import matplotlib.pyplot as plt\n",
    "\n",
    "with open('data.pkl', 'rb') as f:\n",
    "    data = pickle.load(f)\n",
    "print(data.shape)\n",
    "X = data[:, :5]\n",
    "y = data[:, -1]\n",
    "print(X.shape, y.shape)"
   ]
  },
  {
   "cell_type": "markdown",
   "metadata": {
    "id": "STS4NrQQc6OH"
   },
   "source": [
    " ## <font color='red'>Gradient clipping</font>"
   ]
  },
  {
   "cell_type": "markdown",
   "metadata": {
    "id": "GqpfA3AqfJba"
   },
   "source": [
    "**Algorithm** \n",
    "\n"
   ]
  },
  {
   "cell_type": "markdown",
   "metadata": {
    "id": "FL39KeRFfNoD"
   },
   "source": [
    "<pre>\n",
    "<font color='darkblue'>\n",
    "W = initilize_randomly\n",
    "def gradient_checking(data_point, W):<font color='grey'>\n",
    "    # compute the L value using forward_propagation()\n",
    "    # compute the gradients of W using backword_propagation()</font>\n",
    "    approx_gradients = []\n",
    "    for each wi weight value in W:<font color='grey'>\n",
    "        # add a small value to weight wi, and then find the values of L with the updated weights\n",
    "        # subtract a small value to weight wi, and then find the values of L with the updated weights\n",
    "        # compute the approximation gradients of weight wi</font>\n",
    "        approx_gradients.append(approximation gradients of weight wi)<font color='grey'>\n",
    "    # compare the gradient of weights W from backword_propagation() with the aproximation gradients of weights with <br>  gradient_check formula</font>\n",
    "    return gradient_check</font>\n",
    "\n",
    "</pre></b>"
   ]
  },
  {
   "cell_type": "markdown",
   "metadata": {
    "id": "jmefh7ktjbaR"
   },
   "source": [
    "<font color='blue'><b>Algorithm</b>"
   ]
  },
  {
   "cell_type": "markdown",
   "metadata": {
    "id": "nAc4NudkjdNa"
   },
   "source": [
    "<pre>\n",
    "    for each epoch(1-100):\n",
    "        for each data point in your data:\n",
    "            using the functions forward_propagation() and backword_propagation() compute the gradients of weights\n",
    "            update the weigts with help of gradients  ex: w1 = w1-learning_rate*dw1\n",
    "</pre>"
   ]
  },
  {
   "cell_type": "markdown",
   "metadata": {
    "id": "QfmV3FUgSrBo"
   },
   "source": [
    "## <font color='blue'>Forward propagation </font>"
   ]
  },
  {
   "cell_type": "code",
   "execution_count": 139,
   "metadata": {
    "id": "5_pBivcY30qf"
   },
   "outputs": [],
   "source": [
    "import numpy as np\n",
    "import pandas as pd\n",
    "def sigmoid(z):\n",
    "    '''In this function, we will compute the sigmoid(z)'''\n",
    "    # we can use this function in forward and backward propagation\n",
    "    sigmoid = 1 / (1 + np.exp(-1*z))\n",
    "    \n",
    "    return sigmoid\n",
    "\n",
    "def forward_propagation(x, y , w):\n",
    "\n",
    "        '''In this function, we will compute the forward propagation '''\n",
    "        # X: input data point, note that in this assignment you are having 5-d data points\n",
    "        # y: output varible\n",
    "        # W: weight array, its of length 9, W[0] corresponds to w1 in graph, W[1] corresponds to w2 in graph,..., W[8] corresponds to w9 in graph.  \n",
    "        # you have to return the following variables\n",
    "        # exp= part1 (compute the forward propagation until exp and then store the values in exp)\n",
    "        # tanh =part2(compute the forward propagation until tanh and then store the values in tanh)\n",
    "        # sig = part3(compute the forward propagation until sigmoid and then store the values in sig)\n",
    "        # now compute remaining values from computional graph and get y'\n",
    "        # write code to compute the value of L=(y-y')^2\n",
    "        # compute derivative of L  w.r.to Y' and store it in dl\n",
    "        # Create a dictionary to store all the intermediate values\n",
    "        # store L, exp,tanh,sig variables\n",
    "        \n",
    "        data = {}\n",
    "        f1 = x[0]\n",
    "        f2 = x[1]\n",
    "        f3 = x[2]\n",
    "        f4 = x[3]\n",
    "        f5 = x[4]\n",
    "        feature_dict = {\"f1\" : f1 , \"f2\" : f2 , \"f3\" : f3 , \"f4\" : f4 , \"f5\" : f5}\n",
    "        exp = np.exp(w[5] + (((w[0]*f1) + (w[1]*f2))**2))\n",
    "        tanh = np.tanh(w[6] + exp)\n",
    "        \n",
    "        part_3 = (np.sin(w[2]*f3) * ((w[3]*f4) + (w[4]*f5))) + w[7]\n",
    "        sig = sigmoid(part_3)\n",
    "        \n",
    "        y_pred = (w[8]*sig) + tanh\n",
    "        \n",
    "        y_pred = y_pred\n",
    "        y_org = y\n",
    "        error = (y_org - y_pred) \n",
    "        L = error**2\n",
    "        dl = (-2 * error) \n",
    "        \n",
    "        data[\"dl\"] = dl\n",
    "        data[\"loss\"] = L\n",
    "        data[\"exp\"] = exp\n",
    "        data[\"tanh\"] = tanh\n",
    "        data[\"sigmoid\"] = sig\n",
    "        \n",
    "        return data , feature_dict , y_pred"
   ]
  },
  {
   "cell_type": "markdown",
   "metadata": {
    "id": "z-z1rGKqCHNN"
   },
   "source": [
    "<font color='cyan'>Grader function - 1</font>"
   ]
  },
  {
   "cell_type": "code",
   "execution_count": 140,
   "metadata": {
    "id": "6ZxFF00zBmx1"
   },
   "outputs": [
    {
     "data": {
      "text/plain": [
       "True"
      ]
     },
     "execution_count": 140,
     "metadata": {},
     "output_type": "execute_result"
    }
   ],
   "source": [
    "def grader_sigmoid(z):\n",
    "  val=sigmoid(z)\n",
    "  assert(val==0.8807970779778823)\n",
    "  return True\n",
    "grader_sigmoid(2)"
   ]
  },
  {
   "cell_type": "code",
   "execution_count": 141,
   "metadata": {},
   "outputs": [
    {
     "name": "stdout",
     "output_type": "stream",
     "text": [
      "-1.9285278284819143 True True True True True\n"
     ]
    },
    {
     "data": {
      "text/plain": [
       "True"
      ]
     },
     "execution_count": 141,
     "metadata": {},
     "output_type": "execute_result"
    }
   ],
   "source": [
    "def grader_forwardprop(data):\n",
    "    dl = (np.round(data['dl'],4)==-1.9285)\n",
    "    loss=(np.round(data['loss'],4)==0.9298)\n",
    "    part1=(np.round(data['exp'],4)==1.1273)\n",
    "    part2=(np.round(data['tanh'],4)==0.8418)\n",
    "    part3=(np.round(data['sigmoid'],4)==0.5279)\n",
    "    print(data['dl'] , dl , loss , part1 , part2 , part3)\n",
    "    assert(dl and loss and part1 and part2 and part3)\n",
    "    return True\n",
    "w=np.ones(9)*0.1\n",
    "d1 , feature_dict , y_pred=forward_propagation(X[0],y[0],w)\n",
    "grader_forwardprop(d1)"
   ]
  },
  {
   "cell_type": "markdown",
   "metadata": {
    "id": "obOaAqj3Sxvb"
   },
   "source": [
    "## <font color='blue'>Backward propagation</font>"
   ]
  },
  {
   "cell_type": "code",
   "execution_count": 142,
   "metadata": {
    "id": "dS49ykcOGhIv"
   },
   "outputs": [],
   "source": [
    "def backward_propagation(L,W,dict,feature_dict):\n",
    "    '''In this function, we will compute the backward propagation '''\n",
    "    # L: the loss we calculated for the current point\n",
    "    # dictionary: the outputs of the forward_propagation() function\n",
    "    # write code to compute the gradients of each weight [w1,w2,w3,...,w9]\n",
    "    # Hint: you can use dict type to store the required variables \n",
    "    # dw1 = # in dw1 compute derivative of L w.r.to w1\n",
    "    # dw2 = # in dw2 compute derivative of L w.r.to w2\n",
    "    # dw3 = # in dw3 compute derivative of L w.r.to w3\n",
    "    # dw4 = # in dw4 compute derivative of L w.r.to w4\n",
    "    # dw5 = # in dw5 compute derivative of L w.r.to w5\n",
    "    # dw6 = # in dw6 compute derivative of L w.r.to w6\n",
    "    # dw7 = # in dw7 compute derivative of L w.r.to w7\n",
    "    # dw8 = # in dw8 compute derivative of L w.r.to w8\n",
    "    # dw9 = # in dw9 compute derivative of L w.r.to w9\n",
    "    dW = {}\n",
    "    #First Part\n",
    "    #------------------------------------------------------------------------------------------\n",
    "    dw7 = (L)*(1 - (np.tanh(W[6] + dict[\"exp\"]))**2)\n",
    "    dw6 = dw7*dict[\"exp\"]\n",
    "    dw1 = dw6*((2*feature_dict[\"f1\"]) * ((W[0]*feature_dict[\"f1\"]) + (W[1]*feature_dict[\"f2\"])))\n",
    "    dw2 = dw6*((2*feature_dict[\"f2\"]) * ((W[0]*feature_dict[\"f1\"]) + (W[1]*feature_dict[\"f2\"])))\n",
    "    #-------------------------------------------------------------------------------------------\n",
    "    \n",
    "    #Second Part\n",
    "    #-------------------------------------------------------------------------------------------\n",
    "    dw9 = (L)*dict[\"sigmoid\"]\n",
    "    dw8 = (L)*W[8]*(dict[\"sigmoid\"] - dict[\"sigmoid\"]**2)\n",
    "    dw3 = dw8*np.cos(W[2]*feature_dict[\"f3\"])*feature_dict[\"f3\"]*((W[3]*feature_dict[\"f4\"]) + (W[4]*feature_dict[\"f5\"]))\n",
    "    dw4 = dw8*np.sin(W[2]*feature_dict[\"f3\"])*feature_dict[\"f4\"]\n",
    "    dw5 = dw8*np.sin(W[2]*feature_dict[\"f3\"])*feature_dict[\"f5\"]\n",
    "    #-------------------------------------------------------------------------------------------\n",
    "    dW[\"dw1\"] = dw1\n",
    "    dW[\"dw2\"] = dw2\n",
    "    dW[\"dw3\"] = dw3\n",
    "    dW[\"dw4\"] = dw4\n",
    "    dW[\"dw5\"] = dw5\n",
    "    dW[\"dw6\"] = dw6\n",
    "    dW[\"dw7\"] = dw7\n",
    "    dW[\"dw8\"] = dw8\n",
    "    dW[\"dw9\"] = dw9\n",
    "    return dW"
   ]
  },
  {
   "cell_type": "code",
   "execution_count": 143,
   "metadata": {},
   "outputs": [
    {
     "name": "stdout",
     "output_type": "stream",
     "text": [
      "{'dw1': -0.22973323498702003, 'dw2': -0.021407614717752925, 'dw3': -0.00562540558026632, 'dw4': -0.004657941222712424, 'dw5': -0.0010077228498574248, 'dw6': -0.6334751873437471, 'dw7': -0.561941842854033, 'dw8': -0.04806288407316517, 'dw9': -1.0181044360187037}\n"
     ]
    }
   ],
   "source": [
    "w=np.ones(9)*0.1\n",
    "d1 , feature_dict , y_pred=forward_propagation(X[0],y[0],w)\n",
    "d1 = backward_propagation(d1[\"dl\"],w,d1,feature_dict)\n",
    "print(d1)"
   ]
  },
  {
   "cell_type": "markdown",
   "metadata": {
    "id": "1rfHHXZwgwo6"
   },
   "source": [
    "## <font color='blue'> Implement gradient checking</font>"
   ]
  },
  {
   "cell_type": "code",
   "execution_count": 144,
   "metadata": {
    "id": "oh8wj1yjGhOi"
   },
   "outputs": [],
   "source": [
    "import random\n",
    "W=np.ones(9)*0.1\n",
    "t = 1e-4\n",
    "def gradient_checking(x,y,W):\n",
    "    # compute the L value using forward_propagation()\n",
    "    # compute the gradients of W using backword_propagation()\n",
    "    data , f_dict , y_pred_org = forward_propagation(x , y , W)\n",
    "    grad_dict = backward_propagation(data[\"dl\"],W,data,f_dict)\n",
    "    \n",
    "    approx_gradients = []\n",
    "    for i in range(len(W)):\n",
    "        \n",
    "        # add a small value to weight wi, and then find the values of L with the updated weights\n",
    "        # subtract a small value to weight wi, and then find the values of L with the updated weights\n",
    "        # compute the approximation gradients of weight wi\n",
    "       \n",
    "        \n",
    "        W[i] = W[i] + t\n",
    "        \n",
    "        data_plus , f_dict_plus , y_pred_plus = forward_propagation(x,y,W)\n",
    "        W[i] = W[i] - 2*t\n",
    "        \n",
    "        data_minus , f_dict_minus , y_pred_minus = forward_propagation(x,y,W)\n",
    "        W[i] = W[i] + t\n",
    "\n",
    "        approx_gradients.append((data_plus[\"loss\"] - data_minus[\"loss\"]) / (2*t))\n",
    "        \n",
    "    \n",
    "    # compare the gradient of weights W from backword_propagation() with the aproximation gradients of weights with gradient_check formula\n",
    "    gradient_check = []\n",
    "    for org , aprox in zip(grad_dict.values() , approx_gradients):\n",
    "        \n",
    "        numerator = org - aprox\n",
    "        denominator = org + aprox\n",
    "        #print(numerator , denominator)\n",
    "        check = numerator / denominator\n",
    "        \n",
    "        if check < 1e-7:\n",
    "            gradient_check.append(True)\n",
    "        else:\n",
    "            gradient_check.append(False)\n",
    "    return gradient_check"
   ]
  },
  {
   "cell_type": "code",
   "execution_count": 145,
   "metadata": {},
   "outputs": [
    {
     "data": {
      "text/plain": [
       "[True, True, True, True, True, True, True, True, True]"
      ]
     },
     "execution_count": 145,
     "metadata": {},
     "output_type": "execute_result"
    }
   ],
   "source": [
    "W=np.ones(9)*0.1\n",
    "gradient_check = gradient_checking(X[0],y[0],W)\n",
    "gradient_check"
   ]
  },
  {
   "cell_type": "markdown",
   "metadata": {},
   "source": [
    "<pre>\n",
    "    for each epoch(1-100):\n",
    "        for each data point in your data:\n",
    "            using the functions forward_propagation() and backword_propagation() compute the gradients of weights\n",
    "            update the weigts with help of gradients  ex: w1 = w1-learning_rate*dw1\n",
    "</pre>"
   ]
  },
  {
   "cell_type": "code",
   "execution_count": 10,
   "metadata": {},
   "outputs": [],
   "source": [
    "epoch = 100\n",
    "mu, sigma = 0, 0.1 # mean and standard deviation\n",
    "W = np.random.normal(mu, sigma, 9)"
   ]
  },
  {
   "cell_type": "markdown",
   "metadata": {
    "id": "jJzI-vnPk1dB"
   },
   "source": [
    "###<font color='blue'>Algorithm with Vanilla update of weights</font>"
   ]
  },
  {
   "cell_type": "code",
   "execution_count": 79,
   "metadata": {
    "id": "xJspU6ZuGhRQ"
   },
   "outputs": [
    {
     "name": "stderr",
     "output_type": "stream",
     "text": [
      "100%|████████████████████████████████████████████████████████████████████████████████| 100/100 [00:01<00:00, 60.41it/s]\n"
     ]
    }
   ],
   "source": [
    "from tqdm import tqdm\n",
    "W = np.ones(9)*0.1\n",
    "learning_rate = 0.01\n",
    "Loss = []\n",
    "for i in tqdm(range(epoch)):\n",
    "    l = []\n",
    "    for x_p , y_p in zip(X , y):\n",
    "        data , f_dict , y_pred = forward_propagation(x_p , y_p , W)\n",
    "        grad_dict = backward_propagation(data[\"dl\"],W,data,f_dict)\n",
    "        \n",
    "        grad_dict_learning = [learning_rate*i for i in list(grad_dict.values())]\n",
    "        \n",
    "        W = W - grad_dict_learning\n",
    "        l.append(data[\"loss\"])\n",
    "    Loss.append(np.mean(l))\n",
    "\n"
   ]
  },
  {
   "cell_type": "markdown",
   "metadata": {
    "id": "UlTLXrvmlR26"
   },
   "source": [
    "<font color='blue'>Plot between epochs and loss</font>"
   ]
  },
  {
   "cell_type": "code",
   "execution_count": 81,
   "metadata": {
    "id": "CjTCVUIoGhTo"
   },
   "outputs": [
    {
     "data": {
      "image/png": "[encoded data removed]",
      "text/plain": [
       "<Figure size 432x288 with 1 Axes>"
      ]
     },
     "metadata": {
      "needs_background": "light"
     },
     "output_type": "display_data"
    }
   ],
   "source": [
    "from matplotlib import pyplot as plt\n",
    "x = range(epoch)\n",
    "y = np.log(Loss)\n",
    "plt.plot(x,y)\n",
    "plt.title('Plot between epochs and loss')\n",
    "plt.ylabel(\"Loss\")\n",
    "plt.xlabel('epochs')\n",
    "plt.show()"
   ]
  },
  {
   "cell_type": "markdown",
   "metadata": {
    "id": "cv_hZFWalS2z"
   },
   "source": [
    "###<font color='blue'>Algorithm with Momentum update of weights</font>"
   ]
  },
  {
   "cell_type": "code",
   "execution_count": 110,
   "metadata": {
    "id": "uucCdyQrGhZt"
   },
   "outputs": [
    {
     "name": "stderr",
     "output_type": "stream",
     "text": [
      "100%|████████████████████████████████████████████████████████████████████████████████| 100/100 [00:01<00:00, 50.79it/s]\n"
     ]
    }
   ],
   "source": [
    "mu, sigma = 0, 0.1 # mean and standard deviation\n",
    "W = np.random.normal(mu, sigma, 9)\n",
    "learning_rate = 0.01\n",
    "Loss = []\n",
    "gama = 0.9\n",
    "for i in tqdm(range(epoch)):\n",
    "    l = []\n",
    "    for x_p , y_p in zip(X , y):\n",
    "        data , f_dict , y_pred = forward_propagation(x_p , y_p , W)\n",
    "        grad_dict = backward_propagation(data[\"dl\"],W,data,f_dict)\n",
    "        grad_dict_learning = [learning_rate*i for i in grad_dict.values()]\n",
    "        \n",
    "        \n",
    "        #momentum update\n",
    "        momentum = sum([gama*k for k in x_p])\n",
    "        for r in grad_dict_learning:\n",
    "            r = r + momentum\n",
    "        \n",
    "        W = W - grad_dict_learning\n",
    "        \n",
    "        \n",
    "        l.append(data[\"loss\"])\n",
    "    Loss.append(np.mean(l))"
   ]
  },
  {
   "cell_type": "markdown",
   "metadata": {
    "id": "Ow20azfKlVhn"
   },
   "source": [
    "<font color='blue'>Plot between epochs and loss</font>"
   ]
  },
  {
   "cell_type": "code",
   "execution_count": 112,
   "metadata": {
    "id": "u-m90Sq_Ghce",
    "scrolled": true
   },
   "outputs": [
    {
     "data": {
      "image/png": "[encoded data removed]",
      "text/plain": [
       "<Figure size 432x288 with 1 Axes>"
      ]
     },
     "metadata": {
      "needs_background": "light"
     },
     "output_type": "display_data"
    }
   ],
   "source": [
    "from matplotlib import pyplot as plt\n",
    "x = range(epoch)\n",
    "y = np.log(Loss)\n",
    "plt.plot(x,y)\n",
    "plt.title('Plot between epochs and loss')\n",
    "plt.ylabel(\"Loss\")\n",
    "plt.xlabel('epochs')\n",
    "plt.show()"
   ]
  },
  {
   "cell_type": "markdown",
   "metadata": {
    "id": "V4RWWrZ7lWap"
   },
   "source": [
    "###<font color='blue'>Algorithm with Adam update  of weights</font>"
   ]
  },
  {
   "cell_type": "code",
   "execution_count": 146,
   "metadata": {
    "id": "72rRC8rJGhf5"
   },
   "outputs": [
    {
     "name": "stderr",
     "output_type": "stream",
     "text": [
      "100%|████████████████████████████████████████████████████████████████████████████████| 100/100 [00:19<00:00,  5.25it/s]\n"
     ]
    }
   ],
   "source": [
    "from tqdm import tqdm\n",
    "mu, sigma = 0, 0.1 # mean and standard deviation\n",
    "W = np.random.normal(mu, sigma, 9)\n",
    "learning_rate = 0.001\n",
    "Loss = []\n",
    "beta_1 = 0.90\n",
    "beta_2 = 0.99\n",
    "for i in tqdm(range(epoch)):\n",
    "    l = []\n",
    "    for x_p , y_p in zip(X , y):\n",
    "        data , f_dict , y_pred = forward_propagation(x_p , y_p , W)\n",
    "        grad_dict = backward_propagation(data[\"dl\"],W,data,f_dict)\n",
    "        \n",
    "        grad_dict_learning =list(grad_dict.values())\n",
    "        \n",
    "        m = [(beta_1*(np.mean( grad_dict_learning)) + (1 - beta_1)*k) for k in grad_dict_learning]\n",
    "        v = [(beta_2*(np.std(grad_dict_learning)) + (1 - beta_2)*(j)**2) for j in grad_dict_learning]\n",
    "        \n",
    "        denom1 = (1 - (beta_1)**i) \n",
    "        denom2 = (1 - (beta_2)**i)\n",
    "        \n",
    "        m_dash = [l / (denom1 + 1e-3) for l in m]\n",
    "        v_dash = [o / (denom2 + 1e-3) for o in v ]\n",
    "        \n",
    "        grad_val = [learning_rate*(m_ /(np.sqrt(v_) + 1e-3)) for m_ , v_ in zip(m_dash , v_dash)]\n",
    "        \n",
    "        W = W - grad_val\n",
    "        \n",
    "        l.append(data[\"loss\"])\n",
    "    Loss.append(np.mean(l))"
   ]
  },
  {
   "cell_type": "markdown",
   "metadata": {
    "id": "MMy0nBw-lXml"
   },
   "source": [
    "<font color='blue'>Plot between epochs and loss</font>"
   ]
  },
  {
   "cell_type": "code",
   "execution_count": 148,
   "metadata": {
    "id": "aiFRk_uFlm2V"
   },
   "outputs": [
    {
     "data": {
      "image/png": "[encoded data removed]",
      "text/plain": [
       "<Figure size 432x288 with 1 Axes>"
      ]
     },
     "metadata": {
      "needs_background": "light"
     },
     "output_type": "display_data"
    }
   ],
   "source": [
    "from matplotlib import pyplot as plt\n",
    "x = range(epoch)\n",
    "y = np.log(Loss)\n",
    "plt.plot(x,y)\n",
    "plt.title('Plot between epochs and loss')\n",
    "plt.ylabel(\"Loss\")\n",
    "plt.xlabel('epochs')\n",
    "plt.show()"
   ]
  }
 ],
 "metadata": {
  "colab": {
   "collapsed_sections": [],
   "name": "Backpropagation_assignment.ipynb",
   "provenance": []
  },
  "kernelspec": {
   "display_name": "Python 3 (ipykernel)",
   "language": "python",
   "name": "python3"
  },
  "language_info": {
   "codemirror_mode": {
    "name": "ipython",
    "version": 3
   },
   "file_extension": ".py",
   "mimetype": "text/x-python",
   "name": "python",
   "nbconvert_exporter": "python",
   "pygments_lexer": "ipython3",
   "version": "3.11.4"
  }
 },
 "nbformat": 4,
 "nbformat_minor": 1
}
